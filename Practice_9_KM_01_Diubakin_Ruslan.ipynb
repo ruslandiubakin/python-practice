{
  "nbformat": 4,
  "nbformat_minor": 0,
  "metadata": {
    "colab": {
      "name": "Practice_7_KM-01_.ipynb",
      "provenance": [],
      "collapsed_sections": []
    },
    "kernelspec": {
      "name": "python3",
      "display_name": "Python 3.8.6 64-bit",
      "metadata": {
        "interpreter": {
          "hash": "47f799f5261ef41114207066eb34430e8f4ad0941dc0e8299b6256e856fca4ae"
        }
      }
    }
  },
  "cells": [
    {
      "cell_type": "markdown",
      "metadata": {
        "id": "FMqboNwO4rVs"
      },
      "source": [
        "# **Курс \"Програмування на мові Python\"**\n",
        "\n",
        "##### Викладачі:\n",
        "##### Борисенко Павло Борисович\n",
        "##### Щьоголєв Максим Олегович\n"
      ]
    },
    {
      "cell_type": "markdown",
      "metadata": {
        "id": "A2T6MigL5Z06"
      },
      "source": [
        "## **Практичне зайняття №9**\n",
        "\n",
        "### Тема: \"Лямбда-функції. Функції вищих порядків\""
      ]
    },
    {
      "cell_type": "markdown",
      "metadata": {
        "id": "cfCdgK2zXm7e"
      },
      "source": [
        "### **Завдання 1 (1 бал)**\n",
        "\n",
        "Продавець роздрібного товару влаштовує розпродаж. Для всіх товарів знижка однакова - 60%. Щоб вивісити нові цінники, продавець хоче скласти таблицю, в якій для кожного товару буде підрахована його нова вартість та сума знижки.\n",
        "\n",
        "Написати програму, яка буде генерувати таку таблицю. Вартість одиниць товарів до розпродажу подано у списку products_list. \n",
        "\n",
        "1. Для підрахунку невідомих значень повинні використовуватись вбудовані функції вищих порядків.\n",
        "\n",
        "2. Вартість з урахуванням знижки та суми знижок для кожного товару повинні зберігатись у двох окремих списках. Порядок товарів у нових списках повинен бути такий самий, як і в списку products_list.\n",
        "\n",
        "3. Кожне підраховане числове значення має бути округлене до сотих.\n",
        "\n",
        "4. Дані повинні виводитись у вигляді:\n",
        "\n",
        "**Discount table:**\n",
        "\n",
        "**29.25 11.7 17.55**\n",
        "\n",
        "**48.99 19.6 29.39**\n",
        "\n",
        "**...**\n",
        "\n",
        "\n",
        "products_list = [[29.25, 48.99, 99.98, 124.65, 214.30, 543.90, 799.85]]\n"
      ]
    },
    {
      "cell_type": "code",
      "metadata": {
        "id": "ifNX2M7LXm7f"
      },
      "source": [
        "products_list = [29.25, 48.99, 99.98, 124.65, 214.30, 543.90, 799.85]\n",
        "print('Discount table:')\n",
        "\n",
        "def amountDiscount(product):\n",
        "    return round(product * 60 / 100 , 2)\n",
        "\n",
        "def newPrice(product, amount_discount):\n",
        "    return round(product - amount_discount, 2)\n",
        "\n",
        "amount_discount_list = list(map(amountDiscount, products_list))\n",
        "new_price_list = list(map(newPrice, products_list, amount_discount_list))\n",
        "for product, new_price, amount_discount in zip(products_list, new_price_list, amount_discount_list):\n",
        "    print(f'{product}   {new_price}   {amount_discount}')"
      ],
      "execution_count": 9,
      "outputs": [
        {
          "output_type": "stream",
          "name": "stdout",
          "text": [
            "Discount table:\n29.25   11.7   17.55\n48.99   19.6   29.39\n99.98   39.99   59.99\n124.65   49.86   74.79\n214.3   85.72   128.58\n543.9   217.56   326.34\n799.85   319.94   479.91\n"
          ]
        }
      ]
    },
    {
      "source": [
        "### **Завдання 2 (2 бали)**\n",
        "\n",
        "Зазвичай рік має 365 днів. Однак у високосні роки додається ще один день - 29 лютого. Правила визначення високосного року такі:\n",
        "\n",
        "- Будь-який рік, що ділиться на 400 - високосний.\n",
        "\n",
        "- З тих років, що залишились, будь-який рік, що ділиться на 100 - **не** високосний.\n",
        "\n",
        "- З тих років, що залишились, будь-який рік, що ділиться на 4 - високосний.\n",
        "\n",
        "- Усі інші роки, що залишились - **не** високосні.\n",
        "\n",
        "1) Створіть функцію, в якій за допомогою вбудованих функцій вищих порядків будуть визначатися високосні роки серед перелічених років у списку years. Створена функція має повертати список високосних років.\n",
        "\n",
        "2) Створіть функцію вищих порядків, яка прийматиме на вхід попередню функцію та визначатиме кількість днів у місяці. Також функція повинна приймати на вхід ще 2 параметри: ціле число від 1 до 12 (місяць) та рік, як ціле чотирицифрове число. Ці значення корисувач має вводити з клавіатури. Перевірку введених даних слід виконувати поза межами функцій."
      ],
      "cell_type": "markdown",
      "metadata": {}
    },
    {
      "cell_type": "code",
      "execution_count": 19,
      "metadata": {},
      "outputs": [
        {
          "output_type": "stream",
          "name": "stdout",
          "text": [
            "You did not enter a numeric value. Please try again.\n",
            "Number of days per month 12 in year 1923: 30\n"
          ]
        }
      ],
      "source": [
        "import numpy as np\n",
        "\n",
        "years = np.arange(1920, 2020+1, 1)\n",
        "\n",
        "\n",
        "def LeapYears(years):\n",
        "    leap_years_1 = list(filter(lambda year: year % 400 == 0, years))\n",
        "    list_years_1 = list(filter(lambda year: year % 400 != 0, years))\n",
        "    list_years_2 = list(filter (lambda year: year % 100 != 0, list_years_1))\n",
        "    leap_years_2 = list(filter(lambda year: year % 4 == 0, list_years_2))\n",
        "    leap_years = leap_years_1 + leap_years_2\n",
        "    return leap_years\n",
        "\n",
        "\n",
        "def inputCheckNumMonth():\n",
        "    isNotValid = True\n",
        "    while isNotValid:\n",
        "        try:\n",
        "            num_month = int(input('Enter the month number from 1 to 12: '))\n",
        "            while num_month < 1 or num_month > 12:\n",
        "                num_month = int(input('You have entered an invalid value. Please try again: '))\n",
        "            return num_month\n",
        "            isNotValid = False\n",
        "        except:\n",
        "            print('You did not enter a numeric value. Please try again.')\n",
        "\n",
        "\n",
        "def inputCheckYear(years):\n",
        "    isNotValid = True\n",
        "    while isNotValid:\n",
        "        try:\n",
        "            year = int(input('Enter the year as an integer in four digits: '))\n",
        "            while year not in years:\n",
        "                year = int(input('You have entered an invalid value. Please try again: '))\n",
        "            return year\n",
        "            isNotValid = False\n",
        "        except:\n",
        "            print('You did not enter a numeric value. Please try again.')\n",
        "\n",
        "\n",
        "def daysPerMonth(leap_years, years):\n",
        "    num_month = inputCheckNumMonth()\n",
        "    year = inputCheckYear(years)\n",
        "    if year in leap_years:\n",
        "        if num_month == 2:\n",
        "            num_days = 29\n",
        "    elif num_month == 2:\n",
        "        num_days = 28\n",
        "    elif num_month % 2 != 0:\n",
        "        num_days = 31\n",
        "    else:\n",
        "        num_days = 30\n",
        "    print(f'Number of days per month {num_month} in year {year}: {num_days}')\n",
        "\n",
        "\n",
        "leap_years = LeapYears(years)\n",
        "daysPerMonth(leap_years, years)"
      ]
    },
    {
      "cell_type": "code",
      "execution_count": null,
      "metadata": {},
      "outputs": [],
      "source": []
    }
  ]
}