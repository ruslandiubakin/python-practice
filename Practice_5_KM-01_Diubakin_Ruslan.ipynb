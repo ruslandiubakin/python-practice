{
 "cells": [
  {
   "cell_type": "markdown",
   "metadata": {
    "id": "FMqboNwO4rVs"
   },
   "source": [
    "# **Курс \"Програмування на мові Python\"**\n",
    "\n",
    "##### Викладачі:\n",
    "##### Борисенко Павло Борисович\n",
    "##### Щьоголєв Максим Олегович\n"
   ]
  },
  {
   "cell_type": "markdown",
   "metadata": {
    "id": "A2T6MigL5Z06"
   },
   "source": [
    "## **Практичне зайняття №5**\n",
    "### Тема: \"Робота з кортежами, множинами та словниками\""
   ]
  },
  {
   "cell_type": "markdown",
   "metadata": {},
   "source": [
    "### **Завдання 1 (1,5 бали)**\n",
    "\n",
    "Напишіть програму, яка визначала б, чи можна з літер однієї фрази скласти іншу фразу. Наприклад:\n",
    "\n",
    "\"William Shakespeare\" -> \"A small spark\"\n",
    "\n",
    "Перша фраза містить 11 унікальних літер (хоча деякі повторюються): a, e, h, i, k, l, m, p, r, s та w. Друга фраза містить 7 унікальних літер: a, k, l, m, p, r та s. Кожна з літер другої фрази зустрічається принаймні один раз у першій фразі.\n",
    "\n",
    "1. Обидві фрази повинні вводитись користувачем з клавіатури.\n",
    "\n",
    "2. Скористайтесь властивістю множин у мові програмування Python для виділення колекції унікальних літер.\n",
    "\n",
    "3. У множину не повинні потрапити пробіли, розділові знаки та інші символи, що не є літерами (скористайтесь методом **isalpha()**). Також усі літери мають бути переведені в нижній або верхній регістр (скористайтесь методами **lower()** або **upper()**).\n",
    "\n",
    "4. Зверніть увагу на те, що літери як в першій, так і вдругій фразі можуть повторюватись. Однак множина унікальних літер другої фрази повинна бути підмножиною множини унікальних літер першої фрази.\n",
    "\n",
    "5. У складі змістовного повідомлення програма повинна виводити множину літер першої фрази, множину літер другої фрази, а також змістовне повідомлення про те, чи можна скласти з літер першої фрази другу фразу."
   ]
  },
  {
   "cell_type": "code",
   "execution_count": 6,
   "metadata": {},
   "outputs": [
    {
     "name": "stdout",
     "output_type": "stream",
     "text": [
      "Enter the first phrase: Cambridge\n",
      "Enter the second phrase: bridge\n",
      "{'e', 'g', 'c', 'm', 'b', 'i', 'd', 'r', 'a'}\n",
      "{'e', 'g', 'b', 'd', 'i', 'r'}\n",
      "З літер першої фрази можна скласти другу фразу!\n"
     ]
    }
   ],
   "source": [
    "first_phrase =str( input('Enter the first phrase: ' ))\n",
    "second_phrase = str(input('Enter the second phrase: '))\n",
    "\n",
    "first_phrase = first_phrase.lower()\n",
    "second_phrase = second_phrase.lower()\n",
    "\n",
    "first_phrase_set = set()\n",
    "second_phrase_set = set()\n",
    "\n",
    "for item in first_phrase:\n",
    "    if item.isalpha():\n",
    "        first_phrase_set.add(item)\n",
    "        \n",
    "for item in second_phrase:\n",
    "    if item.isalpha():\n",
    "        second_phrase_set.add(item)\n",
    "\n",
    "if first_phrase_set.issuperset(second_phrase_set):\n",
    "    print(first_phrase_set )\n",
    "    print(second_phrase_set)\n",
    "    print(\"З літер першої фрази можна скласти другу фразу!\")\n",
    "else:\n",
    "     print('Не можна скласти з літер першої фрази другу фразу!')"
   ]
  },
  {
   "cell_type": "markdown",
   "metadata": {},
   "source": [
    "### **Завдання 2 (1,5 бали)**\n",
    "\n",
    "На сотовому телефоні повідомлення пишуться за допомогою кнопок з цифрами. Оскільки кожна кнопка містить кілька символів, потрібно натискати на неї кілька разів, щоб надрукувати деякі з них. Якщо написнути кнопку один раз, генерується перший із доступних для цієї кнопки символів. Якщо натиснути два, три, чотири чи п'ять разів, генеруються другий, третій, четвертий чи п'ятий символи віповідно. Повний перелік кнопок (цифр) та символів, які генеруються за допомогою цих кнопок, подано у таблиці.\n",
    "\n",
    "Кнопка | Символи\n",
    "--- | ---\n",
    "1 | . , ? ! :\n",
    "2 | A B C\n",
    "3 | D E F\n",
    "4 | G H I\n",
    "5 | J K L\n",
    "6 | M N O\n",
    "7 | P Q R S\n",
    "8 | T U V\n",
    "9 | W X Y Z\n",
    "0 | space\n",
    "\n",
    "Напишіть програму, яка генеруватиме номери кнопок, які потрібно натиснути для введення певного рядка, з урахуванням кількості натискань кожної кнопки. Рядок має вводити користувач. Скористайтесь словником для збереження усіх номерів кнопок та переліку символів, що їм відповідають.\n",
    "\n",
    "Наприклад, якщо користувач ввів \"Hello, World!\", програма повинна вивести:\n",
    "\n",
    "4433555555666110966677755531111\n",
    "\n",
    "Програма повинна приймати літери як верхнього, так і нижнього регістрів. Усі символи, які не входять до переліку, поданому у таблиці, повинні ігноруватись програмою."
   ]
  },
  {
   "cell_type": "code",
   "execution_count": 50,
   "metadata": {},
   "outputs": [
    {
     "name": "stdout",
     "output_type": "stream",
     "text": [
      "Enter your phrase: Hello, World!\n",
      "4 4 3 3 5 5 5 5 5 5 6 6 6 1 1 0 9 6 6 6 7 7 7 5 5 5 3 1 1 1 1\n"
     ]
    }
   ],
   "source": [
    "phrase = input('Enter your phrase: ')\n",
    "phrase = phrase.upper()\n",
    "number_of_buttons = []\n",
    "button_and_symbol = {\n",
    "                                    '1': ('.' , ',' ,  '?' , '!' ,  ':'),\n",
    "                                    '2': ('A' , 'B' ,  'C'),\n",
    "                                    '3': ('D' ,  'E' ,  'F'),\n",
    "                                    '4': ('G' ,  'H' ,  'I'),\n",
    "                                    '5': ('J' ,  'K' ,  'L'),\n",
    "                                    '6': ('M' ,  'N' , 'O'),\n",
    "                                    '7': ('P' ,  'Q' ,  'R' ,  'S'),\n",
    "                                    '8': ('T' ,  'U',   'V'),\n",
    "                                    '9': ('W',  'X' ,  'Y' ,  'Z'),\n",
    "                                    '0': (' ')\n",
    "                                }\n",
    "\n",
    "for element in phrase:\n",
    "    for button, symbol in button_and_symbol.items():\n",
    "        if element in symbol:\n",
    "            n = symbol.index(element) + 1\n",
    "            for i in range(n):\n",
    "                number_of_buttons +=  list(button)\n",
    "print(*number_of_buttons)"
   ]
  },
  {
   "cell_type": "code",
   "execution_count": null,
   "metadata": {},
   "outputs": [],
   "source": []
  }
 ],
 "metadata": {
  "colab": {
   "collapsed_sections": [
    "193Kzrii8JCG",
    "3txUK3KJUdkf",
    "n1mNKt9JzLSj"
   ],
   "name": "Practice_5.ipynb",
   "provenance": []
  },
  "kernelspec": {
   "display_name": "Python 3",
   "language": "python",
   "name": "python3"
  },
  "language_info": {
   "codemirror_mode": {
    "name": "ipython",
    "version": 3
   },
   "file_extension": ".py",
   "mimetype": "text/x-python",
   "name": "python",
   "nbconvert_exporter": "python",
   "pygments_lexer": "ipython3",
   "version": "3.8.5"
  }
 },
 "nbformat": 4,
 "nbformat_minor": 1
}
