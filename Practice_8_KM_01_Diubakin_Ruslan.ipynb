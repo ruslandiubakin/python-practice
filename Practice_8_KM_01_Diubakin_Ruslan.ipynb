{
  "nbformat": 4,
  "nbformat_minor": 0,
  "metadata": {
    "colab": {
      "name": "Practice_7_KM-01_.ipynb",
      "provenance": [],
      "collapsed_sections": []
    },
    "kernelspec": {
      "name": "python3",
      "display_name": "Python 3.8.6 64-bit",
      "metadata": {
        "interpreter": {
          "hash": "47f799f5261ef41114207066eb34430e8f4ad0941dc0e8299b6256e856fca4ae"
        }
      }
    }
  },
  "cells": [
    {
      "cell_type": "markdown",
      "metadata": {
        "id": "FMqboNwO4rVs"
      },
      "source": [
        "# **Курс \"Програмування на мові Python\"**\n",
        "\n",
        "##### Викладачі:\n",
        "##### Борисенко Павло Борисович\n",
        "##### Щьоголєв Максим Олегович\n"
      ]
    },
    {
      "cell_type": "markdown",
      "metadata": {
        "id": "A2T6MigL5Z06"
      },
      "source": [
        "## **Практичне зайняття №8**\n",
        "\n",
        "### Тема: \"Робота з функціями. Локальні та глобальні змінні\""
      ]
    },
    {
      "cell_type": "markdown",
      "metadata": {
        "id": "cfCdgK2zXm7e"
      },
      "source": [
        "### **Завдання 1 (3 бали)**\n",
        "\n",
        "**Підрахувати визначник матриці, використовуючи правило перестановок.**\n",
        "\n",
        "Функція random_matrix() призначена для створення квадратної матриці випадкових чисел. Її змінювати непотрібно.\n",
        "\n",
        "Приклад використання методу permutations() для створення списку перестановок також подається у комірці з кодом.\n",
        "\n",
        "1) Створити 3 функції: функцію створення списку перестановок, функцію підрахунку добутків та функцію підрахунку загальної суми.\n",
        "\n",
        "2) Кожна функція має супроводжуватись рядком документації, що буде коротко описувати її призначення.\n",
        "\n",
        "3) Розмірність квадратної матриці має вводитись користувачем з клавіатури. Підрахунки виконувати лише в тому разі, якщо користувач введе ціле додатне число.\n",
        "\n",
        "4) Загальний результат повинен підраховуватись за допомогою композиції функцій.\n",
        "\n",
        "За бажання можна перевірити правильність роботи програми за допомогою функції np.linalg.det(a)."
      ]
    },
    {
      "cell_type": "code",
      "metadata": {
        "id": "ifNX2M7LXm7f"
      },
      "source": [
        "import numpy as np\n",
        "import itertools\n",
        "\n",
        "def random_matrix(dim):\n",
        "    \"\"\"\n",
        "    The function generates dim x dim array of integers\n",
        "    between 0 and 10.\n",
        "    \"\"\"\n",
        "    matrix = np.random.randint(10, size = (dim, dim))\n",
        "    return matrix\n",
        "\n",
        "\n",
        "def list_of_permutations(dim):\n",
        "    '''\n",
        "    Generates a list of all possible combinations of matrix elements.\n",
        "    '''\n",
        "    pi = []\n",
        "    for number in range(dim):\n",
        "        pi.append(number)\n",
        "    permutations = list(itertools.permutations(pi, dim))\n",
        "    return permutations\n",
        "\n",
        "def products(permutations, matrix):\n",
        "    '''\n",
        "    Determining the sign and the required products.\n",
        "    '''\n",
        "    products = []\n",
        "    for perm in permutations:\n",
        "        count_inverse = 0\n",
        "        for num_i in range(len(perm)):\n",
        "            for num_j in range(num_i+1, len(perm)):\n",
        "                if  perm[num_i] > perm[num_j]:\n",
        "                    count_inverse += 1\n",
        "\n",
        "        if count_inverse % 2 == 0:\n",
        "            sgn = 1\n",
        "        else:\n",
        "            sgn = -1 \n",
        "\n",
        "        for i in range(dim):\n",
        "            sgn *= matrix[i][perm[i]]\n",
        "            products.append(sgn)\n",
        "    return products\n",
        "\n",
        "def total_amount(products: list):\n",
        "    '''\n",
        "    Adding the products of the matrix and determining its determinant.\n",
        "    '''\n",
        "    total_amount = 0\n",
        "    for product in products:\n",
        "        total_amount += product\n",
        "    return total_amount\n",
        "\n",
        "try:\n",
        "    dim = int(input('Enter dimension of matrix: '))\n",
        "except:\n",
        "    print('You have entered an incorrect value!')\n",
        "\n",
        "matrix = random_matrix(dim)\n",
        "permutations = list_of_permutations(dim)\n",
        "products = products(permutations, matrix)\n",
        "print('Determinant = ' , total_amount(products))"
      ],
      "execution_count": 9,
      "outputs": [
        {
          "output_type": "stream",
          "name": "stdout",
          "text": [
            "Determinant =  2011908\n"
          ]
        }
      ]
    },
    {
      "cell_type": "code",
      "execution_count": null,
      "metadata": {},
      "outputs": [],
      "source": []
    }
  ]
}