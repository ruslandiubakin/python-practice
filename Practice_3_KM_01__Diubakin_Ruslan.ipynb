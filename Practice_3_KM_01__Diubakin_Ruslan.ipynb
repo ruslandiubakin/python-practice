{
 "cells": [
  {
   "cell_type": "markdown",
   "metadata": {
    "id": "1bRxWHr5e8kt"
   },
   "source": [
    "# **Курс \"Програмування на мові Python\"**\n",
    "\n",
    "##### Викладачі:\n",
    "##### Борисенко Павло Борисович\n",
    "##### Щьоголєв Максим Олегович\n",
    "\n",
    "## **Практичне зайняття №3**\n",
    "\n",
    "### Тема: \"Перші програми на Python. Введення та виведення даних\""
   ]
  },
  {
   "cell_type": "markdown",
   "metadata": {
    "id": "M7jjwxAvfKa2"
   },
   "source": [
    "### **Завдання 1 (1,5 бали)**\n",
    "\n",
    "**Написати програму введення та виведення даних про одержувача листа (посилки) за стандартами Укрпошти.**\n",
    "\n",
    "1. Усі запити на введення даних повинні супроводжуватись відповідними підказками-поясненнями (бажано англійською мовою).\n",
    "\n",
    "2. Дані мають виводитись так, як показано нижче (з урахуванням кількості рядків та послідовності даних у кожному з них).\n",
    "\n",
    "3. Дані, виділені жирним шрифтом, повинні вводитись із клавіатури. Всього має бути 9 окремих команд введення даних\n",
    "\n",
    "4. Назви змінних повинні бути інформативними та оформленими відповідно до правил іменування змінних\n",
    "\n",
    "5. Додати 2 коментарі, що вказують на блоки введення та виведення даних.\n",
    "\n",
    "***Формат виведення даних:***\n",
    "\n",
    "(1) **Lucas** (2) **Diallo**\n",
    "\n",
    "(3) **+3221234567**\n",
    "\n",
    "Rue (4) **Longue** (5) **3**, ap. (6) **5**, (7) **Bruxelles**\n",
    "\n",
    "(8) **1020**\n",
    "\n",
    "(9) **Belgium**"
   ]
  },
  {
   "cell_type": "code",
   "execution_count": null,
   "metadata": {
    "id": "hEJG5C3_fJk9",
    "tags": []
   },
   "outputs": [],
   "source": [
    "#input block\n",
    "name = str(input('Enter your name:'))\n",
    "last_name = str(input('Enter your last name:'))\n",
    "number = str(input('Enter your phone number:'))\n",
    "street = str(input('Enter your street:'))\n",
    "number_street = int(input('Enter your street number:'))\n",
    "house = int(input('Enter your house number:'))\n",
    "city = str(input('Enter your city:'))\n",
    "postcode = int(input('Enter your postcode:'))\n",
    "country = str(input('Enter your country:'))\n",
    "\n",
    "#output block\n",
    "print(f' (1) {name} (2) {last_name} ')\n",
    "print(f'(3) {number}')\n",
    "print(f'Rue (4) {street} (5) {number_street}, ap. (6) {house}, (7) {city}')\n",
    "print(f'(8) {postcode}')\n",
    "print(f'(9) {country}')"
   ]
  },
  {
   "cell_type": "markdown",
   "metadata": {
    "id": "4n4p_pz7gFKM"
   },
   "source": [
    " **Завдання 2 (1,5 бали)**\n",
    "\n",
    "Таблиця містить магнітуду землетрусів за шкалою Ріхтера та дескриптори, що їй відповідають.\n",
    "\n",
    "Магнітуда | Дескриптор\n",
    "--- | ---\n",
    "Менше, ніж 2 | Micro\n",
    "Від 2 до менше ніж 3 | Very minor\n",
    "Від 3 до менше ніж 4 | Minor\n",
    "Від 4 до менше ніж 5 | Light\n",
    "Від 5 до менше ніж 6 | Moderate\n",
    "Від 6 до менше ніж 7 | Strong\n",
    "Від 7 до менше ніж 8 | Major\n",
    "Від 8 до менше ніж 10 | Great\n",
    "10 та більше | Meteoric\n",
    "\n",
    "Напишіть програму, яка буде зчитувати магнітуду, введену користувачем, та виводити відповідний дескриптор як частину змістовного повідомлення. Наприклад, якщо користувач вводить 5.5, ваша програма повинна показати, що землетрус з такою магнітудою є помірним (moderate)."
   ]
  },
  {
   "cell_type": "code",
   "execution_count": null,
   "metadata": {
    "id": "Nv66Jkkpf-sI"
   },
   "outputs": [],
   "source": [
    "is_not_valid = True\n",
    "descriptor = 0\n",
    "while is_not_valid:\n",
    "        try:\n",
    "            magnitude = float(input('Enter the magnitude of the earthquake on the Richter scale: '))\n",
    "            is_not_valid = False\n",
    "        except:\n",
    "            print('You entered a non-numeric value!')\n",
    "if magnitude < 2:\n",
    "    descriptor = 'micro'\n",
    "elif 2 <= magnitude < 3:\n",
    "    descriptor = 'very minor'\n",
    "elif 3 <= magnitude < 4:\n",
    "    descriptor = 'minor'\n",
    "elif 4 <= magnitude < 5:\n",
    "    descriptor = 'light'\n",
    "elif 5 <= magnitude < 6:\n",
    "    descriptor = 'moderate'\n",
    "elif 6 <= magnitude < 7:\n",
    "     descriptor = 'strong'\n",
    "elif 7 <= magnitude < 8:\n",
    "    descriptor = 'major'\n",
    "elif 8 <= magnitude < 10:\n",
    "    descriptor = 'great'\n",
    "elif magnitude >= 10:\n",
    "    descriptor = 'meteoric'\n",
    "\n",
    "print(f'An earthquake of magnitude {magnitude} is {descriptor}')"
   ]
  },
  {
   "cell_type": "markdown",
   "metadata": {
    "id": "b593txPwotgN"
   },
   "source": [
    "### **Завдання 3 (бонусне, 1 бал)**\n",
    "\n",
    "Часто говорять, що один календарний рік еквівалентний 7 рокам для собаки. Однак таке просте перетворення не враховує того, що собаки досягають \"повноліття\" приблизно у 2 роки. Тому деякі люди вважать, що краще рахувати кожен з перших двох календарних років як 10,5 років для собаки, а потім рахувати кожен наступний календарний рік як 4 роки для собаки.\n",
    "\n",
    "Напишіть програму, яка конвертує календарні роки у \"собачі\", як було показано в попередньому абзаці. Переконайтесь, що ваша програма працює правильно, конвертуючи перші два календарні роки та всі подальші. Ваша програма також повинна виводити повідомлення про помилку, якщо користувач введе від'ємне число."
   ]
  },
  {
   "cell_type": "code",
   "execution_count": null,
   "metadata": {
    "id": "PA_E_H0Zosu0"
   },
   "outputs": [],
   "source": [
    "is_not_valid = True\n",
    "while is_not_valid:\n",
    "        try:\n",
    "            calendar_years = float(input('Enter how many calendar years your dog is: '))\n",
    "            if calendar_years <= 0:\n",
    "                print('Enter a number greater than zero!')\n",
    "                is_not_valid = True\n",
    "            else:\n",
    "                is_not_valid = False\n",
    "        except:\n",
    "            print('You entered an invalid value!')\n",
    "if calendar_years == 1:\n",
    "    dogs_years = 10.5\n",
    "else:\n",
    "    every_following_year = calendar_years - 2\n",
    "    dogs_years = 2 * 10.5 + every_following_year * 4\n",
    "print(f' Your dog is {dogs_years} years old.')"
   ]
  }
 ],
 "metadata": {
  "colab": {
   "collapsed_sections": [],
   "name": "Pranctice_3_KM-01_<name>.ipynb",
   "provenance": []
  },
  "kernelspec": {
   "display_name": "Python 3",
   "language": "python",
   "name": "python3"
  },
  "language_info": {
   "codemirror_mode": {
    "name": "ipython",
    "version": 3
   },
   "file_extension": ".py",
   "mimetype": "text/x-python",
   "name": "python",
   "nbconvert_exporter": "python",
   "pygments_lexer": "ipython3",
   "version": "3.8.5"
  }
 },
 "nbformat": 4,
 "nbformat_minor": 1
}
