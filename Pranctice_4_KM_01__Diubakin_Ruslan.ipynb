{
 "cells": [
  {
   "cell_type": "markdown",
   "metadata": {
    "id": "1bRxWHr5e8kt"
   },
   "source": [
    "# **Курс \"Програмування на мові Python\"**\n",
    "\n",
    "##### Викладачі:\n",
    "##### Борисенко Павло Борисович\n",
    "##### Щьоголєв Максим Олегович"
   ]
  },
  {
   "cell_type": "markdown",
   "metadata": {
    "id": "buZUwUgFe-kx"
   },
   "source": [
    "## **Практичне зайняття №4**\n",
    "### Тема: \"Цикли. Робота зі списками\""
   ]
  },
  {
   "cell_type": "markdown",
   "metadata": {
    "id": "PUkxEn8EfAUe"
   },
   "source": [
    "### **Завдання 1 (1,5 бали)**\n",
    "\n"
   ]
  },
  {
   "cell_type": "markdown",
   "metadata": {},
   "source": [
    "Продавець роздрібного товару влаштовує розпродаж. Для всіх товарів знижка однакова - 60%. Щоб вивісити нові цінники, продавець хоче скласти таблицю, в якій для кожного товару буде підрахована його нова вартість та сума знижки.\n",
    "\n",
    "Написати програму, яка буде генерувати таку таблицю. Вартість одиниць товарів до розпродажу подано у списку products_list. \n",
    "\n",
    "1. Для підрахунку невідомих значень та їх виведення повинен використовуватись цикл.\n",
    "\n",
    "2. Вартість з урахуванням знижки та суми знижок для кожного товару повинні зберігатись у двох окремих списках. Порядок товарів у нових списках повинен бути такий самий, як і в списку products_list.\n",
    "\n",
    "3. Кожне підраховане числове значення має бути округлене до сотих. Для цього слід використати функцію round(). Приклад застосування цієї функції:\n",
    "\n",
    "```\n",
    "value_new = round(2.3741, 2)\n",
    "print(value_new)\n",
    "```\n",
    "\n",
    "4. Дані повинні виводитись у вигляді:\n",
    "\n",
    "**Discount table:**\n",
    "\n",
    "**29.25 11.7 17.55**\n",
    "\n",
    "**48.99 19.6 29.39**\n",
    "\n",
    "**...**\n",
    "\n",
    "\n",
    "products_list = [[29.25, 48.99, 99.98, 124.65, 214.30, 543.90, 799.85]]"
   ]
  },
  {
   "cell_type": "code",
   "execution_count": 8,
   "metadata": {},
   "outputs": [
    {
     "name": "stdout",
     "output_type": "stream",
     "text": [
      "Discount table:\n",
      "29.25   11.7   17.55\n",
      "48.99   19.6   29.39\n",
      "99.98   39.99   59.99\n",
      "124.65   49.86   74.79\n",
      "214.3   85.72   128.58\n",
      "543.9   217.56   326.34\n",
      "799.85   319.94   479.91\n"
     ]
    }
   ],
   "source": [
    "products_list = [29.25, 48.99, 99.98, 124.65, 214.30, 543.90, 799.85]\n",
    "print('Discount table:')\n",
    "for product in products_list:\n",
    "    amount_discount = round(product * 60 / 100 , 2)\n",
    "    new_price = round(product - amount_discount, 2)\n",
    "    print(f'{product}   {new_price}   {amount_discount}')"
   ]
  },
  {
   "cell_type": "markdown",
   "metadata": {},
   "source": [
    "### **Завдання 2 (1,5 бали)**"
   ]
  },
  {
   "cell_type": "markdown",
   "metadata": {
    "id": "4n4p_pz7gFKM"
   },
   "source": [
    "Перелічуючи деякі предмети у тексті, ми ставимо між ними коми. В англійській мові слово and зазвичай ставлять між останнім та передостаннім словом у переліку (за виключенням випадку, коли у списку всього одне слово). Також в англійській мові прийнято ставити кому перед and (оксфордська кома), якщо в переліку більше двох найменувань. Розглянемо 4 приклади:\n",
    "\n",
    "**apples**\n",
    "\n",
    "**apples and oranges**\n",
    "\n",
    "**apples, oranges, and bananas**\n",
    "\n",
    "**apples, oranges, bananas, and lemons**\n",
    "\n",
    "Напишіть програму, яка:\n",
    "\n",
    "1. отримує на вхід перелік деяких предметів, які користувач вводить з клавіатури, та записує їх у список у вигляді окремих елементів;\n",
    "\n",
    "2. виводить ці предмети у тій самій послідовності, в якій вони були введені, розставляючи коми та слово and так, як показано у прикладі."
   ]
  },
  {
   "cell_type": "code",
   "execution_count": 3,
   "metadata": {
    "id": "Nv66Jkkpf-sI"
   },
   "outputs": [
    {
     "name": "stdout",
     "output_type": "stream",
     "text": [
      "How many words do you want to enter? Enter: qwwe\n",
      "You entered a non-numeric or non-integer value!\n",
      "How many words do you want to enter? Enter: 4\n",
      "Enter the word: apples\n",
      "Enter the word: oranges\n",
      "Enter the word: bananas\n",
      "Enter the word: lemons\n",
      "apples, oranges, bananas, and lemons\n"
     ]
    }
   ],
   "source": [
    "words = []\n",
    "word_n = 1\n",
    "\n",
    "is_not_valid = True\n",
    "\n",
    "while is_not_valid:\n",
    "    try:\n",
    "        amount_words = int(input('How many words do you want to enter? Enter: '))\n",
    "        if amount_words > 0:\n",
    "            is_not_valid = False\n",
    "    except:\n",
    "        print(\"You entered a non-numeric or non-integer value!\")\n",
    "    \n",
    "if amount_words == 1:\n",
    "    word = str(input('Enter the word: '))\n",
    "    words.append(word)\n",
    "\n",
    "if amount_words == 2:\n",
    "    while word_n <= amount_words:\n",
    "        word = str(input('Enter the word: '))\n",
    "        if word_n == amount_words:\n",
    "            words.append(word)\n",
    "        else:\n",
    "            words.append(word + ',')\n",
    "        word_n += 1\n",
    "\n",
    "if amount_words >= 3:\n",
    "    while word_n <= amount_words:\n",
    "        word = str(input('Enter the word: '))\n",
    "        if amount_words - word_n == 1:\n",
    "            words.append(word + ', and')\n",
    "        elif word_n == amount_words:\n",
    "            words.append(word)\n",
    "        else:\n",
    "            words.append(word + ',')\n",
    "        word_n += 1\n",
    "\n",
    "print(*words)"
   ]
  },
  {
   "cell_type": "code",
   "execution_count": null,
   "metadata": {},
   "outputs": [],
   "source": []
  }
 ],
 "metadata": {
  "colab": {
   "collapsed_sections": [],
   "name": "Pranctice_3_KM-01_<name>.ipynb",
   "provenance": []
  },
  "kernelspec": {
   "name": "Python 3.8.5 32-bit",
   "display_name": "Python 3.8.5 32-bit",
   "metadata": {
    "interpreter": {
     "hash": "8a42e8581704d812f174276cadf47b91a8b3cbce976324507688b69a62b18c0b"
    }
   }
  },
  "language_info": {
   "codemirror_mode": {
    "name": "ipython",
    "version": 3
   },
   "file_extension": ".py",
   "mimetype": "text/x-python",
   "name": "python",
   "nbconvert_exporter": "python",
   "pygments_lexer": "ipython3",
   "version": "3.8.5-final"
  }
 },
 "nbformat": 4,
 "nbformat_minor": 1
}